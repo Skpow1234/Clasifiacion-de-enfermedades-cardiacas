{
 "cells": [
  {
   "attachments": {},
   "cell_type": "markdown",
   "id": "516461ea",
   "metadata": {},
   "source": [
    "# Predicción de enfermedades cardíacas mediante el aprendizaje automático\n",
    "\n",
    "Este cuaderno presenta conceptos básicos de aprendizaje automático y ciencia de datos mediante la exploración del problema de la **clasificación** de las enfermedades cardíacas.\n",
    "\n",
    "Pretende ser un ejemplo completo de cómo podría ser una **prueba de concepto** de ciencia de datos y aprendizaje automático.\n"
   ]
  },
  {
   "cell_type": "markdown",
   "id": "7cf6bf75",
   "metadata": {},
   "source": [
    "## 1. Definición del problema\n",
    "El problema que exploraremos es la **clasificación binaria** (una muestra solo puede ser una de dos cosas).\n",
    "\n",
    "Esto se debe a que vamos a utilizar una serie de **características** diferentes sobre una persona para predecir si tiene una enfermedad cardíaca o no.\n",
    "\n",
    "En una oracion,\n",
    "\n",
    "> Dados los parámetros clínicos de un paciente, ¿podemos predecir si tiene o no una cardiopatía?\n",
    "\n",
    "\n",
    "## 2. Datos\n",
    "\n",
    "Los datos originales provienen de la [base de datos de Cleveland] (https://archive.ics.uci.edu/ml/datasets/heart+Disease) del repositorio de aprendizaje automático de UCI.\n",
    "\n",
    "Sin embargo, lo hemos descargado de forma formateada desde [Kaggle](https://www.kaggle.com/ronitf/heart-disease-uci/).\n",
    "\n",
    "La base de datos original contiene 76 atributos, pero aquí solo se utilizarán 14 atributos. **Atributos** (también llamados **características**) son las variables que usaremos para predecir nuestra **variable objetivo**.\n",
    "\n",
    "Los atributos y características también se conocen como **variables independientes** y una variable de destino se puede denominar **variable dependiente**.\n",
    "\n",
    "> Usamos las variables independientes para predecir nuestra variable dependiente.\n",
    "\n",
    "O en nuestro caso, las variables independientes son los diferentes atributos médicos de un paciente y la variable dependiente es si tiene o no una enfermedad cardíaca.\n",
    "\n",
    "## 3. Evaluación\n",
    "\n",
    "La métrica de evaluación es algo que puede definir al comienzo de un proyecto.\n",
    "\n",
    "Dado que el aprendizaje automático es muy experimental, podría decir algo como:\n",
    "\n",
    "> Si podemos alcanzar un 95 % de precisión en la predicción de si un paciente tiene o no una enfermedad cardíaca durante la prueba de concepto, realizaremos este proyecto.\n",
    "\n",
    "La razón por la que esto es útil es que proporciona un objetivo aproximado para que trabaje un ingeniero de aprendizaje automático o un científico de datos.\n",
    "\n",
    "Sin embargo, debido a la naturaleza de la experimentación, la métrica de evaluación puede cambiar con el tiempo.\n",
    "\n",
    "## 4. Características\n",
    "\n",
    "Aquí es donde obtendrá información diferente sobre cada una de las características de sus datos. Puede hacer esto haciendo su propia investigación (como mirar los enlaces anteriores) o hablando con un experto en la materia (alguien que conoce el conjunto de datos).\n",
    "\n",
    "**Crear diccionario de datos**\n",
    "\n",
    "1. edad - edad en años\n",
    "2. sexo - (1 = masculino; 0 = femenino)\n",
    "3. cp - tipo de dolor en el pecho\n",
    "    * 0: Angina típica: dolor torácico relacionado con disminución del suministro de sangre al corazón\n",
    "    * 1: Angina atípica: dolor torácico no relacionado con el corazón\n",
    "    * 2: Dolor no anginoso: típicamente espasmos esofágicos (no relacionados con el corazón)\n",
    "    * 3: Asintomático: dolor torácico sin signos de enfermedad\n",
    "4. trestbps: presión arterial en reposo (en mm Hg en el momento de la admisión al hospital) cualquier valor por encima de 130-140 suele ser motivo de preocupación\n",
    "5. chol - colestoral sérico en mg/dl\n",
    "    * suero = LDL + HDL + .2 * triglicéridos\n",
    "    * por encima de 200 es motivo de preocupación\n",
    "6. fbs - (azúcar en sangre en ayunas > 120 mg/dl) (1 = verdadero; 0 = falso)\n",
    "    * '>126' mg/dL indica diabetes\n",
    "7. retecg - resultados electrocardiográficos en reposo\n",
    "    * 0: Nada a destacar\n",
    "    * 1: anormalidad de onda ST-T\n",
    "        * puede variar desde síntomas leves hasta problemas graves\n",
    "        * señala latidos cardíacos anormales\n",
    "    * 2: hipertrofia ventricular izquierda posible o definitiva\n",
    "        * Cámara de bombeo principal del corazón agrandada\n",
    "8. thalach - frecuencia cardíaca máxima alcanzada\n",
    "9. exang - angina inducida por el ejercicio (1 = sí; 0 = no)\n",
    "10. Oldpeak: la depresión del ST inducida por el ejercicio en relación con el reposo observa el estrés del corazón durante el ejercicio. El corazón no saludable se estresará más.\n",
    "11. pendiente: la pendiente del segmento ST del ejercicio máximo\n",
    "    * 0: Upsloping: mejor frecuencia cardíaca con ejercicio (poco común)\n",
    "    * 1: Flatsloping: cambio mínimo (típico corazón sano)\n",
    "    * 2: Downslopins: signos de corazón no saludable\n",
    "12. ca - número de vasos principales (0-3) coloreados por fluoroscopia\n",
    "    * vaso de color significa que el médico puede ver la sangre que pasa\n",
    "    * cuanto más movimiento de sangre mejor (sin coágulos)\n",
    "13. thal - resultado de estrés de talio\n",
    "    * 1,3: normales\n",
    "    * 6: defecto fijo: solía ser un defecto pero ahora está bien\n",
    "    * 7: defecto reversible: no hay circulación sanguínea adecuada al hacer ejercicio\n",
    "14. objetivo - tiene enfermedad o no (1=sí, 0=no) (= el atributo predicho)"
   ]
  },
  {
   "cell_type": "markdown",
   "id": "a5cf9e11",
   "metadata": {},
   "source": [
    "## Preparando las herramientas\n",
    "\n",
    "Pandas, Matplotlib y NumPy para el análisis y la manipulación de datos."
   ]
  },
  {
   "cell_type": "code",
   "execution_count": null,
   "id": "eb8d09aa",
   "metadata": {},
   "outputs": [],
   "source": [
    "# pip install seaborn\n"
   ]
  },
  {
   "cell_type": "code",
   "execution_count": null,
   "id": "e98e4a20",
   "metadata": {},
   "outputs": [],
   "source": [
    "# Importar todas las herramientas que necesitamos\n",
    "\n",
    "# EDA regular (análisis exploratorio de datos) y bibliotecas de gráficos\n",
    "\n",
    "from sklearn.metrics import precision_score, recall_score, f1_score\n",
    "from sklearn.metrics import confusion_matrix, classification_report\n",
    "from sklearn.model_selection import RandomizedSearchCV, GridSearchCV\n",
    "from sklearn.model_selection import train_test_split, cross_val_score\n",
    "from sklearn.ensemble import RandomForestClassifier\n",
    "from sklearn.neighbors import KNeighborsClassifier\n",
    "from sklearn.linear_model import LogisticRegression\n",
    "import numpy as np\n",
    "import pandas as pd\n",
    "import matplotlib.pyplot as plt\n",
    "import seaborn as sns\n",
    "\n",
    "%matplotlib inline\n",
    "\n",
    "# Modelos de Scikit-Learn\n",
    "\n",
    "# Evaluaciones de modelos\n"
   ]
  },
  {
   "cell_type": "markdown",
   "id": "fb6feac1",
   "metadata": {},
   "source": [
    "## Cargar los Datos"
   ]
  },
  {
   "cell_type": "code",
   "execution_count": null,
   "id": "ca1a42d1",
   "metadata": {},
   "outputs": [],
   "source": [
    "df = pd.read_csv(\"data/heart-disease.csv\")\n"
   ]
  },
  {
   "cell_type": "code",
   "execution_count": null,
   "id": "036775ca",
   "metadata": {},
   "outputs": [],
   "source": [
    "df.shape\n"
   ]
  },
  {
   "cell_type": "markdown",
   "id": "341e150f",
   "metadata": {},
   "source": [
    "## Exploración de datos.\n",
    "\n",
    "El objetivo aquí es obtener más información sobre los datos .\n",
    "\n",
    "1. ¿Qué pregunta(s) está tratando de resolver (o demostrar que está equivocado)?\n",
    "2. ¿Qué tipo de datos tiene y cómo trata los diferentes tipos?\n",
    "3. ¿Qué falta en los datos y cómo se maneja?\n",
    "4. ¿Dónde están los valores atípicos y por qué debería preocuparse por ellos?\n",
    "5. ¿Cómo puede agregar, cambiar o eliminar funciones para sacar más provecho de sus datos?"
   ]
  },
  {
   "cell_type": "code",
   "execution_count": null,
   "id": "e06d542a",
   "metadata": {},
   "outputs": [],
   "source": [
    "df.head()\n"
   ]
  },
  {
   "cell_type": "code",
   "execution_count": null,
   "id": "bc242da0",
   "metadata": {},
   "outputs": [],
   "source": [
    "df.tail()\n"
   ]
  },
  {
   "cell_type": "code",
   "execution_count": null,
   "id": "e43ef1e5",
   "metadata": {},
   "outputs": [],
   "source": [
    "# CUANTAS MUESTRAS POSITIVAS (1) Y NEGATIVAS (0) TENEMOS EN EL DF\n",
    "df[\"target\"].value_counts()\n"
   ]
  },
  {
   "cell_type": "code",
   "execution_count": null,
   "id": "0272b34f",
   "metadata": {},
   "outputs": [],
   "source": [
    "# En formato porcentaje\n",
    "df[\"target\"].value_counts(normalize=True)\n"
   ]
  },
  {
   "cell_type": "markdown",
   "id": "27569ca5",
   "metadata": {},
   "source": [
    "Podemos graficar los recuentos de valores de la columna target llamando a la función plot() y diciéndole qué tipo de gráfico nos gustaría, en este caso, la barra es buena."
   ]
  },
  {
   "cell_type": "code",
   "execution_count": null,
   "id": "bba9e970",
   "metadata": {},
   "outputs": [],
   "source": [
    "# Grafica los valores en barras\n",
    "df[\"target\"].value_counts().plot(kind=\"bar\", color=[\"salmon\", \"lightblue\"])\n"
   ]
  },
  {
   "cell_type": "markdown",
   "id": "f5ee9c70",
   "metadata": {},
   "source": [
    "`df.info()` muestra una visión rápida de la cantidad de valores faltantes que tiene y con qué tipo de datos está trabajando.\n",
    "\n",
    "Para este caso, no faltan valores y todas nuestras columnas son de naturaleza numérica."
   ]
  },
  {
   "cell_type": "code",
   "execution_count": null,
   "id": "ecc26f4d",
   "metadata": {},
   "outputs": [],
   "source": [
    "df.info()\n"
   ]
  },
  {
   "cell_type": "code",
   "execution_count": null,
   "id": "aa50f6a7",
   "metadata": {},
   "outputs": [],
   "source": [
    "# ¿Hay valores faltantes?\n",
    "df.isna().sum()\n"
   ]
  },
  {
   "cell_type": "markdown",
   "id": "bbf73a48",
   "metadata": {},
   "source": [
    "Otra forma de obtener información rápida sobre su marco de datos es usar `df.describe()` muestra una variedad de métricas diferentes sobre sus columnas numéricas, como la media, el máximo y la desviación estándar."
   ]
  },
  {
   "cell_type": "code",
   "execution_count": null,
   "id": "0e15013c",
   "metadata": {},
   "outputs": [],
   "source": [
    "df.describe()\n"
   ]
  },
  {
   "cell_type": "markdown",
   "id": "7e5b6966",
   "metadata": {},
   "source": [
    "### Frecuencia de enfermedades cardíacas según sexo\n",
    "\n",
    "Se compara la columna objetivo con la columna de sexo.\n",
    "\n",
    "Recuerde de nuestro diccionario de datos, para la columna objetivo, 1 = enfermedad cardíaca presente, 0 = sin enfermedad cardíaca. Y para el sexo, 1 = masculino, 0 = femenino."
   ]
  },
  {
   "cell_type": "code",
   "execution_count": null,
   "id": "93f26360",
   "metadata": {},
   "outputs": [],
   "source": [
    "df[\"sex\"].value_counts()\n"
   ]
  },
  {
   "cell_type": "code",
   "execution_count": null,
   "id": "4559600d",
   "metadata": {},
   "outputs": [],
   "source": [
    "pd.crosstab(df[\"target\"], df[\"sex\"])\n"
   ]
  },
  {
   "cell_type": "markdown",
   "id": "dac2e20d",
   "metadata": {},
   "source": [
    "¿Qué podemos inferir de esto? \n",
    "\n",
    "Dado que hay alrededor de 100 mujeres y 72 de ellas tienen un valor positivo de enfermedad cardíaca presente, podríamos inferir, según esta variable, si la participante es una mujer, hay un 75 % de probabilidad de que tenga una enfermedad cardíaca.\n",
    "\n",
    "En cuanto a los hombres, hay alrededor de 200 en total y alrededor de la mitad indica la presencia de una enfermedad cardíaca. Así que podríamos predecir, si el participante es hombre, el 50% de las veces tendrá una enfermedad cardíaca."
   ]
  },
  {
   "cell_type": "markdown",
   "id": "913e4ac1",
   "metadata": {},
   "source": [
    "### Tabulación cruzada\n",
    "Se puede trazar la tabulación cruzada usando la función `plot()` y pasándole algunos parámetros como `kind` (el tipo de gráfico que desea), `figsize=(longitud, ancho)` y `color=[color_1, color_2]` (los diferentes colores que le gustaría usar)."
   ]
  },
  {
   "cell_type": "code",
   "execution_count": null,
   "id": "5034d0c8",
   "metadata": {},
   "outputs": [],
   "source": [
    "pd.crosstab(df[\"target\"], df[\"sex\"]).plot(kind=\"bar\", figsize=(8, 5), color=[\"salmon\", \"lightblue\"])\n",
    "\n",
    "plt.title(\"Frecuencia de enfermedades del corazón para el sexo\")\n",
    "plt.xlabel(\"0 = Sin enfermedad, 1 = Enfermedad\")\n",
    "plt.ylabel(\"Cantidad\")\n",
    "plt.legend([\"Feminino\", \"Masculino\"])\n",
    "plt.xticks(rotation=0)\n"
   ]
  },
  {
   "cell_type": "markdown",
   "id": "195a8c33",
   "metadata": {},
   "source": [
    "### Edad v/s a frecuencia cardíaca máxima(thalach ) para enfermedades cardíacas\n",
    "Intentemos combinar un par de variables independientes, como la edad y el thalach (frecuencia cardíaca máxima) y luego comparémoslas con nuestra enfermedad cardíaca variable objetivo.\n",
    "\n",
    "Debido a que hay tantos valores diferentes para la edad y el thalach, usaremos un diagrama de dispersión."
   ]
  },
  {
   "cell_type": "code",
   "execution_count": null,
   "id": "f0192218",
   "metadata": {},
   "outputs": [],
   "source": [
    "# Creo la Figura\n",
    "plt.figure(figsize=(7, 5))\n",
    "\n",
    "# Comience con ejemplos positivos\n",
    "plt.scatter(df.age[df.target == 1], df.thalach[df.target == 1], c=\"salmon\")\n",
    "\n",
    "# Ahora, para los ejemplos negativos, los queremos en el mismo gráfico, por lo que llamamos plt nuevamente\n",
    "plt.scatter(df.age[df.target == 0], df.thalach[df.target == 0], c=\"lightblue\")   # eje siempre viene como (x, y)\n",
    "\n",
    "# Agreguemos información útil\n",
    "plt.title(\"Enfermedad Cardiaca en función de la Edad y la frecuencia cardiaca Maxima\")\n",
    "plt.xlabel(\"Edad\")\n",
    "plt.ylabel(\"Ritmo Cardiaco Máximo\")\n",
    "plt.legend([\"Enfermedad\", \"Sin Enfermedad\"])\n"
   ]
  },
  {
   "cell_type": "markdown",
   "id": "3084d6b8",
   "metadata": {},
   "source": [
    "¿Qué se puede inferir de esto?\n",
    "\n",
    "Parece que cuanto más joven es una persona, mayor es su frecuencia cardíaca máxima (los puntos están más arriba a la izquierda del gráfico) y cuanto mayor es una persona, más puntos verdes hay. Pero esto puede deberse a que hay más puntos todos juntos en el lado derecho del gráfico (participantes mayores).\n",
    "\n",
    "Observación de la **distribución** de edad."
   ]
  },
  {
   "cell_type": "code",
   "execution_count": null,
   "id": "195c0d03",
   "metadata": {},
   "outputs": [],
   "source": [
    "# Los histogramas son una excelente manera de verificar la distribución de una variable\n",
    "df[\"age\"].plot.hist()\n"
   ]
  },
  {
   "cell_type": "markdown",
   "id": "4aa65ca0",
   "metadata": {},
   "source": [
    "Podemos ver que es una [**distribución normal**](https://en.wikipedia.org/wiki/Normal_distribution) pero ligeramente oscilante hacia la derecha, lo que se refleja en el diagrama de dispersión anterior."
   ]
  },
  {
   "cell_type": "markdown",
   "id": "5bbffa17",
   "metadata": {},
   "source": [
    "### Frecuencia de enfermedades cardíacas por tipo de dolor torácico\n",
    "\n",
    "Probemos con otra variable independiente. Esta vez, `cp` (dolor en el pecho).\n",
    "\n",
    "Usaremos el mismo proceso que hicimos antes con `sex`."
   ]
  },
  {
   "cell_type": "markdown",
   "id": "d098f39f",
   "metadata": {},
   "source": [
    "cp - tipo de dolor en el pecho\n",
    "\n",
    "* 0: Angina típica: dolor torácico relacionado con disminución del suministro de sangre al corazón\n",
    "* 1: Angina atípica: dolor torácico no relacionado con el corazón\n",
    "* 2: Dolor no anginoso: típicamente espasmos esofágicos (no relacionados con el corazón)\n",
    "* 3: Asintomático: dolor torácico sin signos de enfermedad"
   ]
  },
  {
   "cell_type": "code",
   "execution_count": null,
   "id": "51950a72",
   "metadata": {},
   "outputs": [],
   "source": [
    "pd.crosstab(df[\"cp\"], df[\"target\"])\n"
   ]
  },
  {
   "cell_type": "code",
   "execution_count": null,
   "id": "e9b455d4",
   "metadata": {},
   "outputs": [],
   "source": [
    "# Hacer crosstab mas Visual\n",
    "pd.crosstab(df[\"cp\"], df[\"target\"]).plot(kind=\"bar\",figsize=(7, 5),color=[\"salmon\", \"lightblue\"])\n",
    "plt.title(\"Frecuencia de enfermedades del Corazon - Tipo de dolor en el Pecho\")\n",
    "plt.xlabel(\"Tipo de Dolor en el Pecho\")\n",
    "plt.ylabel(\"Cantidad\")\n",
    "plt.legend([\"Sin Enfermedad\", \"Enfermedad\"])\n",
    "plt.xticks(rotation=0)\n"
   ]
  },
  {
   "cell_type": "markdown",
   "id": "d27491b1",
   "metadata": {},
   "source": [
    "¿Qué podemos inferir de esto?\n",
    "\n",
    "Los diferentes niveles de dolor torácico.\n",
    "\n",
    "3. cp - tipo de dolor en el pecho\n",
    "    * 0: Angina típica: dolor torácico relacionado con disminución del suministro de sangre al corazón\n",
    "    * 1: Angina atípica: dolor torácico no relacionado con el corazón\n",
    "    * 2: Dolor no anginoso: típicamente espasmos esofágicos (no relacionados con el corazón)\n",
    "    * 3: Asintomático: dolor torácico sin signos de enfermedad\n",
    "    \n",
    "Es interesante que la agina atípica (valor 1) indique que no está relacionada con el corazón, pero parece tener una mayor proporción de participantes con enfermedades cardíacas que no."
   ]
  },
  {
   "cell_type": "code",
   "execution_count": null,
   "id": "58521776",
   "metadata": {},
   "outputs": [],
   "source": [
    "df.head()\n"
   ]
  },
  {
   "cell_type": "markdown",
   "id": "df8e6d7a",
   "metadata": {},
   "source": [
    "### Correlación entre variables independientes\n",
    "\n",
    "Finalmente, comparamos todas las variables independientes de una sola vez.\n",
    "\n",
    "¿Por qué?\n",
    "\n",
    "Se puede dar una idea de qué variables independientes pueden o no tener un impacto en nuestra variable objetivo.\n",
    "\n",
    "Podemos hacer esto usando `df.corr()` que creará una [**matriz de correlación**](https://www.statisticshowto.datasciencecentral.com/correlation-matrix/) una gran tabla de números que nos dice qué tan relacionada está cada variable con la otra."
   ]
  },
  {
   "cell_type": "code",
   "execution_count": null,
   "id": "54b20599",
   "metadata": {},
   "outputs": [],
   "source": [
    "corr_matrix = df.corr()\n",
    "corr_matrix\n"
   ]
  },
  {
   "cell_type": "code",
   "execution_count": null,
   "id": "6c71326d",
   "metadata": {},
   "outputs": [],
   "source": [
    "fig, ax = plt.subplots(figsize=(10, 6))\n",
    "ax = sns.heatmap(corr_matrix, annot=True, linewidths=0.5, fmt=\".2f\", cmap=\"YlGnBu\")\n",
    "\n",
    "# Para que se vea el grafico completo ... la cabecera\n",
    "bottom, top = ax.get_ylim()\n",
    "ax.set_ylim(bottom + 0.5, top - 0.5)\n"
   ]
  },
  {
   "cell_type": "markdown",
   "id": "3e4210d1",
   "metadata": {},
   "source": [
    "Un valor positivo alto significa una correlación positiva (aumento) y un valor negativo alto significa una correlación negativa (disminución)."
   ]
  }
 ],
 "metadata": {
  "kernelspec": {
   "display_name": "Python 3 (ipykernel)",
   "language": "python",
   "name": "python3"
  },
  "language_info": {
   "codemirror_mode": {
    "name": "ipython",
    "version": 3
   },
   "file_extension": ".py",
   "mimetype": "text/x-python",
   "name": "python",
   "nbconvert_exporter": "python",
   "pygments_lexer": "ipython3",
   "version": "3.11.2"
  }
 },
 "nbformat": 4,
 "nbformat_minor": 5
}
